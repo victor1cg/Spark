{
  "nbformat": 4,
  "nbformat_minor": 0,
  "metadata": {
    "colab": {
      "name": "Big_Data_Spark.ipynb",
      "provenance": [],
      "collapsed_sections": [],
      "authorship_tag": "ABX9TyNhLzXakLnDVqrI1MMqgEhW",
      "include_colab_link": true
    },
    "kernelspec": {
      "name": "python3",
      "display_name": "Python 3"
    },
    "language_info": {
      "name": "python"
    },
    "accelerator": "TPU"
  },
  "cells": [
    {
      "cell_type": "markdown",
      "metadata": {
        "id": "view-in-github",
        "colab_type": "text"
      },
      "source": [
        "<a href=\"https://colab.research.google.com/github/victor1cg/Spark/blob/main/Big_Data_Spark.ipynb\" target=\"_parent\"><img src=\"https://colab.research.google.com/assets/colab-badge.svg\" alt=\"Open In Colab\"/></a>"
      ]
    },
    {
      "cell_type": "markdown",
      "source": [
        "## **HADOOP**\n",
        "\n",
        "*Estudo do curso Big Data na Pratica - Hotmart.*\n",
        "\n",
        "Conjunto de frameworks open sources para processamento e armazenamento de Big Data.\n",
        "\n",
        "**ECOSISTEMA HADOOP** -> Mesmo paradigma de map e reduce, e salvar em memoria RAM.\n",
        "\n",
        "-*HDFS* - Sistema de arquivos distribuidos do Hadoop\n",
        "\n",
        "-*Hadoop YARN* - Gerenciador de Recursos\n",
        "\n",
        "-*MapReduce* - Framework para big data\n",
        "\n",
        "\\ > Quebra de linha"
      ],
      "metadata": {
        "id": "2EShJguhgJew"
      }
    },
    {
      "cell_type": "markdown",
      "source": [
        "**Cluster** - Conjunto de computadores (nós) interligados para processar uma mesma tarefa.\n",
        "\n",
        "Master e Workers - "
      ],
      "metadata": {
        "id": "aao_6-YThYOF"
      }
    },
    {
      "cell_type": "markdown",
      "source": [
        "O Apache Spark tem como pré requisito primário o JAVA 8, uma vez que o mesmo utiliza da JVM(Java Virtual Machine) para paralelizar o processamento dos dados.\n",
        "\n"
      ],
      "metadata": {
        "id": "kukvd9JgiuZP"
      }
    },
    {
      "cell_type": "code",
      "execution_count": 1,
      "metadata": {
        "id": "NpoLO4KegAOI"
      },
      "outputs": [],
      "source": [
        "# INSTALAR AS DEPENDENCIAS \n",
        "#Instalar o JAVA 8\n",
        "!apt-get install openjdk-8-jdk-headless -qq > /dev/null\n",
        "\n",
        "#Baixar a versão mais recente do Spark\n",
        "!wget -q https://archive.apache.org/dist/spark/spark-3.1.2/spark-3.1.2-bin-hadoop2.7.tgz\n",
        "\n",
        "#Deszipar o Spark\n",
        "!tar xf spark-3.1.2-bin-hadoop2.7.tgz\n",
        "\n",
        "#Criar as variaveis de ambiente\n",
        "import os\n",
        "os.environ[\"JAVA_HOME\"] = \"/usr/lib/jvm/java-8-openjdk-amd64\"\n",
        "os.environ[\"SPARK_HOME\"] = \"/content/spark-2.4.4-bin-hadoop2.7\"\n",
        "\n",
        "#Instalar a lib que ajuda a localizar o Spark e instalar aqui\n",
        "!pip install -q findspark\n",
        "#Tornar o pyspark \"importável\"\n",
        "import findspark\n",
        "findspark.init('spark-3.1.2-bin-hadoop2.7')"
      ]
    },
    {
      "cell_type": "code",
      "source": [
        "# criar a spark Session\n",
        "from pyspark.sql import SparkSession\n",
        "spark = SparkSession.builder\\\n",
        "        .master('local')\\\n",
        "        .appName('sparkcolab')\\\n",
        "        .getOrCreate()\n",
        "\n",
        "spark\n",
        "\n"
      ],
      "metadata": {
        "id": "EYm0F_IMxzzh",
        "colab": {
          "base_uri": "https://localhost:8080/",
          "height": 219
        },
        "outputId": "64db9170-6da6-4e8a-ec61-fc8544b579de"
      },
      "execution_count": 2,
      "outputs": [
        {
          "output_type": "execute_result",
          "data": {
            "text/plain": [
              "<pyspark.sql.session.SparkSession at 0x7f968c5dbe90>"
            ],
            "text/html": [
              "\n",
              "            <div>\n",
              "                <p><b>SparkSession - in-memory</b></p>\n",
              "                \n",
              "        <div>\n",
              "            <p><b>SparkContext</b></p>\n",
              "\n",
              "            <p><a href=\"http://7d47e8c6f269:4040\">Spark UI</a></p>\n",
              "\n",
              "            <dl>\n",
              "              <dt>Version</dt>\n",
              "                <dd><code>v3.1.2</code></dd>\n",
              "              <dt>Master</dt>\n",
              "                <dd><code>local</code></dd>\n",
              "              <dt>AppName</dt>\n",
              "                <dd><code>sparkcolab</code></dd>\n",
              "            </dl>\n",
              "        </div>\n",
              "        \n",
              "            </div>\n",
              "        "
            ]
          },
          "metadata": {},
          "execution_count": 2
        }
      ]
    },
    {
      "cell_type": "code",
      "source": [
        "!pip install ipython-autotime\n",
        "\n",
        "%load_ext autotime"
      ],
      "metadata": {
        "id": "KS9q4eg91DBq"
      },
      "execution_count": null,
      "outputs": []
    },
    {
      "cell_type": "markdown",
      "source": [
        "O **SparkSession** é o objeto responsável por criar Dataframes, ou seja, estrutura de dados paralelizáveis semelhante aos dataframes do framework pandas e da linguagem R . Em modos interativos, como é o caso do CLI pyspark, o objeto SparkSession já vem previamente instânciado."
      ],
      "metadata": {
        "id": "kBrrzieQOWHM"
      }
    },
    {
      "cell_type": "markdown",
      "source": [
        "### **Aula 3 - High Levels API e Data Frames**"
      ],
      "metadata": {
        "id": "drxjXRi3M6Eq"
      }
    },
    {
      "cell_type": "markdown",
      "source": [
        "*Podemos ver aqui dois processos principais:*\n",
        "\n",
        "**Workers**: processo responsável por realizar a computação bruta dos dados, de forma paralela, ou\n",
        "seja, cada executor em um cluster irá processar uma parte dos dados.\n",
        "\n",
        "**Driver**: processo responsável por coordenar a aplicação e enviar instrução de processamento\n",
        "(transformações) para os executores e receber os resultados das ações. Códigos não paralelizáveis\n",
        "(códigos que não usufruem dos Dataframes ou RDDs), consumirão poder de processamento e\n",
        "memória do processo Driver. Exemplo: Pandas"
      ],
      "metadata": {
        "id": "dFyN001ENgdc"
      }
    },
    {
      "cell_type": "markdown",
      "source": [
        "![image.png](data:image/png;base64,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)"
      ],
      "metadata": {
        "id": "ASLiqiu0NcMg"
      }
    },
    {
      "cell_type": "code",
      "source": [
        "# Data Frames\n",
        "\n",
        "data_dict = [{\n",
        " \"nome\":\"Jose\",\n",
        " \"idade\": 52,\n",
        " \"profissao\": \"Advocacia\"\n",
        "},{\n",
        " \"nome\":\"Maria\",\n",
        " \"idade\": 35,\n",
        " \"profissao\": \"Medicina\"\n",
        "},{\n",
        " \"nome\":\"Pedro\",\n",
        " \"idade\": 25,\n",
        " \"profissao\": \"Estudante\"\n",
        "}]"
      ],
      "metadata": {
        "id": "fAZ7QI86G2A3"
      },
      "execution_count": null,
      "outputs": []
    },
    {
      "cell_type": "code",
      "source": [
        "df_dict = spark.createDataFrame(data_dict)\n",
        "df_dict.show(vertical=True)\n",
        "# df_dict.printSchema() #Meta dado\n"
      ],
      "metadata": {
        "colab": {
          "base_uri": "https://localhost:8080/"
        },
        "id": "5K7y-P73PLu1",
        "outputId": "cfd1cd69-ed0f-4cdc-d7c3-61ffef627bcf"
      },
      "execution_count": null,
      "outputs": [
        {
          "output_type": "stream",
          "name": "stdout",
          "text": [
            "-RECORD 0--------------\n",
            " idade     | 52        \n",
            " nome      | Jose      \n",
            " profissao | Advocacia \n",
            "-RECORD 1--------------\n",
            " idade     | 35        \n",
            " nome      | Maria     \n",
            " profissao | Medicina  \n",
            "-RECORD 2--------------\n",
            " idade     | 25        \n",
            " nome      | Pedro     \n",
            " profissao | Estudante \n",
            "\n"
          ]
        }
      ]
    },
    {
      "cell_type": "code",
      "source": [
        "#inferSchema - infere o tipo do meta dado\n",
        "\n",
        "df = spark.read.csv('vgsales.csv',header=True,inferSchema=True)\n",
        "\n",
        "df.show()\n",
        "df.printSchema()"
      ],
      "metadata": {
        "colab": {
          "base_uri": "https://localhost:8080/"
        },
        "id": "RH6lPIsoQnJu",
        "outputId": "c30b8c4d-7862-477f-9982-6cd9567e23fa"
      },
      "execution_count": 3,
      "outputs": [
        {
          "output_type": "stream",
          "name": "stdout",
          "text": [
            "+----+--------------------+--------+----+------------+--------------------+--------+--------+--------+-----------+------------+\n",
            "|Rank|                Name|Platform|Year|       Genre|           Publisher|NA_Sales|EU_Sales|JP_Sales|Other_Sales|Global_Sales|\n",
            "+----+--------------------+--------+----+------------+--------------------+--------+--------+--------+-----------+------------+\n",
            "|   1|          Wii Sports|     Wii|2006|      Sports|            Nintendo|   41.49|   29.02|    3.77|       8.46|       82.74|\n",
            "|   2|   Super Mario Bros.|     NES|1985|    Platform|            Nintendo|   29.08|    3.58|    6.81|       0.77|       40.24|\n",
            "|   3|      Mario Kart Wii|     Wii|2008|      Racing|            Nintendo|   15.85|   12.88|    3.79|       3.31|       35.82|\n",
            "|   4|   Wii Sports Resort|     Wii|2009|      Sports|            Nintendo|   15.75|   11.01|    3.28|       2.96|        33.0|\n",
            "|   5|Pokemon Red/Pokem...|      GB|1996|Role-Playing|            Nintendo|   11.27|    8.89|   10.22|        1.0|       31.37|\n",
            "|   6|              Tetris|      GB|1989|      Puzzle|            Nintendo|    23.2|    2.26|    4.22|       0.58|       30.26|\n",
            "|   7|New Super Mario B...|      DS|2006|    Platform|            Nintendo|   11.38|    9.23|     6.5|        2.9|       30.01|\n",
            "|   8|            Wii Play|     Wii|2006|        Misc|            Nintendo|   14.03|     9.2|    2.93|       2.85|       29.02|\n",
            "|   9|New Super Mario B...|     Wii|2009|    Platform|            Nintendo|   14.59|    7.06|     4.7|       2.26|       28.62|\n",
            "|  10|           Duck Hunt|     NES|1984|     Shooter|            Nintendo|   26.93|    0.63|    0.28|       0.47|       28.31|\n",
            "|  11|          Nintendogs|      DS|2005|  Simulation|            Nintendo|    9.07|    11.0|    1.93|       2.75|       24.76|\n",
            "|  12|       Mario Kart DS|      DS|2005|      Racing|            Nintendo|    9.81|    7.57|    4.13|       1.92|       23.42|\n",
            "|  13|Pokemon Gold/Poke...|      GB|1999|Role-Playing|            Nintendo|     9.0|    6.18|     7.2|       0.71|        23.1|\n",
            "|  14|             Wii Fit|     Wii|2007|      Sports|            Nintendo|    8.94|    8.03|     3.6|       2.15|       22.72|\n",
            "|  15|        Wii Fit Plus|     Wii|2009|      Sports|            Nintendo|    9.09|    8.59|    2.53|       1.79|        22.0|\n",
            "|  16|  Kinect Adventures!|    X360|2010|        Misc|Microsoft Game St...|   14.97|    4.94|    0.24|       1.67|       21.82|\n",
            "|  17|  Grand Theft Auto V|     PS3|2013|      Action|Take-Two Interactive|    7.01|    9.27|    0.97|       4.14|        21.4|\n",
            "|  18|Grand Theft Auto:...|     PS2|2004|      Action|Take-Two Interactive|    9.43|     0.4|    0.41|      10.57|       20.81|\n",
            "|  19|   Super Mario World|    SNES|1990|    Platform|            Nintendo|   12.78|    3.75|    3.54|       0.55|       20.61|\n",
            "|  20|Brain Age: Train ...|      DS|2005|        Misc|            Nintendo|    4.75|    9.26|    4.16|       2.05|       20.22|\n",
            "+----+--------------------+--------+----+------------+--------------------+--------+--------+--------+-----------+------------+\n",
            "only showing top 20 rows\n",
            "\n",
            "root\n",
            " |-- Rank: integer (nullable = true)\n",
            " |-- Name: string (nullable = true)\n",
            " |-- Platform: string (nullable = true)\n",
            " |-- Year: string (nullable = true)\n",
            " |-- Genre: string (nullable = true)\n",
            " |-- Publisher: string (nullable = true)\n",
            " |-- NA_Sales: double (nullable = true)\n",
            " |-- EU_Sales: double (nullable = true)\n",
            " |-- JP_Sales: double (nullable = true)\n",
            " |-- Other_Sales: double (nullable = true)\n",
            " |-- Global_Sales: double (nullable = true)\n",
            "\n"
          ]
        }
      ]
    },
    {
      "cell_type": "code",
      "source": [
        "#Utilizar um schema definido pelo usuario\n",
        "from pyspark.sql.types import StructType,StructField,StringType,IntegerType,DoubleType\n",
        "\n",
        "#(nome_coluna, tipo de dado, nullable) \n",
        "schema = StructType([\n",
        " StructField(\"new_rank\", IntegerType(), True),\n",
        " StructField(\"new_name\", StringType(), True),\n",
        " StructField(\"new_platform\", StringType(), True),\n",
        " StructField(\"new_year\", StringType(), True),\n",
        " StructField(\"new_genre\", StringType(), True),\n",
        " StructField(\"new_publisher\", StringType(), True),\n",
        " StructField(\"new_na_sales\", DoubleType(), True),\n",
        " StructField(\"new_eu_sales\", DoubleType(), True),\n",
        " StructField(\"new_jp_sales\", DoubleType(), True),\n",
        " StructField(\"new_other_sales\", DoubleType(), True),\n",
        " StructField(\"new_global_sales\", DoubleType(), True)\n",
        "])\n",
        "\n",
        "# Imput dos dados\n",
        "df = spark.read.csv(\"vgsales.csv\",schema= schema, header=True)\n",
        "df.show()\n",
        "df.printSchema()"
      ],
      "metadata": {
        "id": "Avi2H3MVTBIh"
      },
      "execution_count": null,
      "outputs": []
    },
    {
      "cell_type": "markdown",
      "source": [
        "---------PARTE 1---------"
      ],
      "metadata": {
        "id": "lo4kbKR2iL-i"
      }
    },
    {
      "cell_type": "code",
      "source": [
        "#Transformar do DF Spark - DF pandas\n",
        "import pandas as pd\n",
        "import matplotlib as plt\n",
        "\n",
        "df_pandas = df.toPandas()"
      ],
      "metadata": {
        "id": "h8G04qlBiLdb"
      },
      "execution_count": 5,
      "outputs": []
    },
    {
      "cell_type": "code",
      "source": [
        "#funçao do professor para printar o df\n",
        "def display_df(df,n=20):\n",
        "  return df.toPandas().head(n)"
      ],
      "metadata": {
        "id": "tXxd-ZnKi6o4"
      },
      "execution_count": 4,
      "outputs": []
    },
    {
      "cell_type": "code",
      "source": [
        "display_df(df,15)"
      ],
      "metadata": {
        "id": "e70cdfUbjDtF"
      },
      "execution_count": null,
      "outputs": []
    },
    {
      "cell_type": "markdown",
      "source": [
        "**Pyspark API**"
      ],
      "metadata": {
        "id": "aI_BKb5KkVWT"
      }
    },
    {
      "cell_type": "code",
      "source": [
        "import pyspark.sql.functions as f\n",
        "\n",
        "#1) 10 maiores vendas depois do ano 2000;\n",
        "#[SPARK]\n",
        "sales_2000 = df.select(\"Name\",\"Global_Sales\",\"Year\")\\\n",
        "              .filter(f.col(\"Year\")>2000)\\\n",
        "              .orderBy(f.desc(\"Global_Sales\"))\\\n",
        "              .limit(10) #coloco o limit aqui para evitar trazer todos o df e processar no pandas;\n",
        "\n",
        "display_df(sales_2000)"
      ],
      "metadata": {
        "colab": {
          "base_uri": "https://localhost:8080/",
          "height": 380
        },
        "id": "FOr5E5fnkTyp",
        "outputId": "563f14d0-1af2-4674-d7bb-1a154023fca6"
      },
      "execution_count": 48,
      "outputs": [
        {
          "output_type": "execute_result",
          "data": {
            "text/plain": [
              "                        Name  Global_Sales  Year\n",
              "0                 Wii Sports         82.74  2006\n",
              "1             Mario Kart Wii         35.82  2008\n",
              "2          Wii Sports Resort         33.00  2009\n",
              "3      New Super Mario Bros.         30.01  2006\n",
              "4                   Wii Play         29.02  2006\n",
              "5  New Super Mario Bros. Wii         28.62  2009\n",
              "6                 Nintendogs         24.76  2005\n",
              "7              Mario Kart DS         23.42  2005\n",
              "8                    Wii Fit         22.72  2007\n",
              "9               Wii Fit Plus         22.00  2009"
            ],
            "text/html": [
              "\n",
              "  <div id=\"df-4f6117fb-c690-4076-98ce-9a2e6c041581\">\n",
              "    <div class=\"colab-df-container\">\n",
              "      <div>\n",
              "<style scoped>\n",
              "    .dataframe tbody tr th:only-of-type {\n",
              "        vertical-align: middle;\n",
              "    }\n",
              "\n",
              "    .dataframe tbody tr th {\n",
              "        vertical-align: top;\n",
              "    }\n",
              "\n",
              "    .dataframe thead th {\n",
              "        text-align: right;\n",
              "    }\n",
              "</style>\n",
              "<table border=\"1\" class=\"dataframe\">\n",
              "  <thead>\n",
              "    <tr style=\"text-align: right;\">\n",
              "      <th></th>\n",
              "      <th>Name</th>\n",
              "      <th>Global_Sales</th>\n",
              "      <th>Year</th>\n",
              "    </tr>\n",
              "  </thead>\n",
              "  <tbody>\n",
              "    <tr>\n",
              "      <th>0</th>\n",
              "      <td>Wii Sports</td>\n",
              "      <td>82.74</td>\n",
              "      <td>2006</td>\n",
              "    </tr>\n",
              "    <tr>\n",
              "      <th>1</th>\n",
              "      <td>Mario Kart Wii</td>\n",
              "      <td>35.82</td>\n",
              "      <td>2008</td>\n",
              "    </tr>\n",
              "    <tr>\n",
              "      <th>2</th>\n",
              "      <td>Wii Sports Resort</td>\n",
              "      <td>33.00</td>\n",
              "      <td>2009</td>\n",
              "    </tr>\n",
              "    <tr>\n",
              "      <th>3</th>\n",
              "      <td>New Super Mario Bros.</td>\n",
              "      <td>30.01</td>\n",
              "      <td>2006</td>\n",
              "    </tr>\n",
              "    <tr>\n",
              "      <th>4</th>\n",
              "      <td>Wii Play</td>\n",
              "      <td>29.02</td>\n",
              "      <td>2006</td>\n",
              "    </tr>\n",
              "    <tr>\n",
              "      <th>5</th>\n",
              "      <td>New Super Mario Bros. Wii</td>\n",
              "      <td>28.62</td>\n",
              "      <td>2009</td>\n",
              "    </tr>\n",
              "    <tr>\n",
              "      <th>6</th>\n",
              "      <td>Nintendogs</td>\n",
              "      <td>24.76</td>\n",
              "      <td>2005</td>\n",
              "    </tr>\n",
              "    <tr>\n",
              "      <th>7</th>\n",
              "      <td>Mario Kart DS</td>\n",
              "      <td>23.42</td>\n",
              "      <td>2005</td>\n",
              "    </tr>\n",
              "    <tr>\n",
              "      <th>8</th>\n",
              "      <td>Wii Fit</td>\n",
              "      <td>22.72</td>\n",
              "      <td>2007</td>\n",
              "    </tr>\n",
              "    <tr>\n",
              "      <th>9</th>\n",
              "      <td>Wii Fit Plus</td>\n",
              "      <td>22.00</td>\n",
              "      <td>2009</td>\n",
              "    </tr>\n",
              "  </tbody>\n",
              "</table>\n",
              "</div>\n",
              "      <button class=\"colab-df-convert\" onclick=\"convertToInteractive('df-4f6117fb-c690-4076-98ce-9a2e6c041581')\"\n",
              "              title=\"Convert this dataframe to an interactive table.\"\n",
              "              style=\"display:none;\">\n",
              "        \n",
              "  <svg xmlns=\"http://www.w3.org/2000/svg\" height=\"24px\"viewBox=\"0 0 24 24\"\n",
              "       width=\"24px\">\n",
              "    <path d=\"M0 0h24v24H0V0z\" fill=\"none\"/>\n",
              "    <path d=\"M18.56 5.44l.94 2.06.94-2.06 2.06-.94-2.06-.94-.94-2.06-.94 2.06-2.06.94zm-11 1L8.5 8.5l.94-2.06 2.06-.94-2.06-.94L8.5 2.5l-.94 2.06-2.06.94zm10 10l.94 2.06.94-2.06 2.06-.94-2.06-.94-.94-2.06-.94 2.06-2.06.94z\"/><path d=\"M17.41 7.96l-1.37-1.37c-.4-.4-.92-.59-1.43-.59-.52 0-1.04.2-1.43.59L10.3 9.45l-7.72 7.72c-.78.78-.78 2.05 0 2.83L4 21.41c.39.39.9.59 1.41.59.51 0 1.02-.2 1.41-.59l7.78-7.78 2.81-2.81c.8-.78.8-2.07 0-2.86zM5.41 20L4 18.59l7.72-7.72 1.47 1.35L5.41 20z\"/>\n",
              "  </svg>\n",
              "      </button>\n",
              "      \n",
              "  <style>\n",
              "    .colab-df-container {\n",
              "      display:flex;\n",
              "      flex-wrap:wrap;\n",
              "      gap: 12px;\n",
              "    }\n",
              "\n",
              "    .colab-df-convert {\n",
              "      background-color: #E8F0FE;\n",
              "      border: none;\n",
              "      border-radius: 50%;\n",
              "      cursor: pointer;\n",
              "      display: none;\n",
              "      fill: #1967D2;\n",
              "      height: 32px;\n",
              "      padding: 0 0 0 0;\n",
              "      width: 32px;\n",
              "    }\n",
              "\n",
              "    .colab-df-convert:hover {\n",
              "      background-color: #E2EBFA;\n",
              "      box-shadow: 0px 1px 2px rgba(60, 64, 67, 0.3), 0px 1px 3px 1px rgba(60, 64, 67, 0.15);\n",
              "      fill: #174EA6;\n",
              "    }\n",
              "\n",
              "    [theme=dark] .colab-df-convert {\n",
              "      background-color: #3B4455;\n",
              "      fill: #D2E3FC;\n",
              "    }\n",
              "\n",
              "    [theme=dark] .colab-df-convert:hover {\n",
              "      background-color: #434B5C;\n",
              "      box-shadow: 0px 1px 3px 1px rgba(0, 0, 0, 0.15);\n",
              "      filter: drop-shadow(0px 1px 2px rgba(0, 0, 0, 0.3));\n",
              "      fill: #FFFFFF;\n",
              "    }\n",
              "  </style>\n",
              "\n",
              "      <script>\n",
              "        const buttonEl =\n",
              "          document.querySelector('#df-4f6117fb-c690-4076-98ce-9a2e6c041581 button.colab-df-convert');\n",
              "        buttonEl.style.display =\n",
              "          google.colab.kernel.accessAllowed ? 'block' : 'none';\n",
              "\n",
              "        async function convertToInteractive(key) {\n",
              "          const element = document.querySelector('#df-4f6117fb-c690-4076-98ce-9a2e6c041581');\n",
              "          const dataTable =\n",
              "            await google.colab.kernel.invokeFunction('convertToInteractive',\n",
              "                                                     [key], {});\n",
              "          if (!dataTable) return;\n",
              "\n",
              "          const docLinkHtml = 'Like what you see? Visit the ' +\n",
              "            '<a target=\"_blank\" href=https://colab.research.google.com/notebooks/data_table.ipynb>data table notebook</a>'\n",
              "            + ' to learn more about interactive tables.';\n",
              "          element.innerHTML = '';\n",
              "          dataTable['output_type'] = 'display_data';\n",
              "          await google.colab.output.renderOutput(dataTable, element);\n",
              "          const docLink = document.createElement('div');\n",
              "          docLink.innerHTML = docLinkHtml;\n",
              "          element.appendChild(docLink);\n",
              "        }\n",
              "      </script>\n",
              "    </div>\n",
              "  </div>\n",
              "  "
            ]
          },
          "metadata": {},
          "execution_count": 48
        },
        {
          "output_type": "stream",
          "name": "stdout",
          "text": [
            "time: 259 ms (started: 2022-06-07 20:22:10 +00:00)\n"
          ]
        }
      ]
    },
    {
      "cell_type": "markdown",
      "source": [
        "**SparkSQL**"
      ],
      "metadata": {
        "id": "FO2NMVPbl9g4"
      }
    },
    {
      "cell_type": "code",
      "source": [
        "#[SQL]\n",
        "df.createOrReplaceTempView(\"videogame_sales\")\n",
        "\n",
        "sales_2000 = spark.sql(\"\"\"\n",
        "        SELECT Name,\n",
        "               Global_Sales,\n",
        "               Year\n",
        "               FROM videogame_sales\n",
        "               WHERE Year >= 2000\n",
        "               ORDER BY Global_Sales DESC\n",
        "               LIMIT 10\n",
        "                \"\"\")\n",
        "\n",
        "display_df(sales_2000)"
      ],
      "metadata": {
        "colab": {
          "base_uri": "https://localhost:8080/",
          "height": 380
        },
        "id": "HZU-MSIal_yJ",
        "outputId": "c5e88ccf-3151-4c5b-d36c-9f4d3495a2dd"
      },
      "execution_count": 49,
      "outputs": [
        {
          "output_type": "execute_result",
          "data": {
            "text/plain": [
              "                        Name  Global_Sales  Year\n",
              "0                 Wii Sports         82.74  2006\n",
              "1             Mario Kart Wii         35.82  2008\n",
              "2          Wii Sports Resort         33.00  2009\n",
              "3      New Super Mario Bros.         30.01  2006\n",
              "4                   Wii Play         29.02  2006\n",
              "5  New Super Mario Bros. Wii         28.62  2009\n",
              "6                 Nintendogs         24.76  2005\n",
              "7              Mario Kart DS         23.42  2005\n",
              "8                    Wii Fit         22.72  2007\n",
              "9               Wii Fit Plus         22.00  2009"
            ],
            "text/html": [
              "\n",
              "  <div id=\"df-3b41de11-361e-4ed0-b8d4-9b7b0a5b8eca\">\n",
              "    <div class=\"colab-df-container\">\n",
              "      <div>\n",
              "<style scoped>\n",
              "    .dataframe tbody tr th:only-of-type {\n",
              "        vertical-align: middle;\n",
              "    }\n",
              "\n",
              "    .dataframe tbody tr th {\n",
              "        vertical-align: top;\n",
              "    }\n",
              "\n",
              "    .dataframe thead th {\n",
              "        text-align: right;\n",
              "    }\n",
              "</style>\n",
              "<table border=\"1\" class=\"dataframe\">\n",
              "  <thead>\n",
              "    <tr style=\"text-align: right;\">\n",
              "      <th></th>\n",
              "      <th>Name</th>\n",
              "      <th>Global_Sales</th>\n",
              "      <th>Year</th>\n",
              "    </tr>\n",
              "  </thead>\n",
              "  <tbody>\n",
              "    <tr>\n",
              "      <th>0</th>\n",
              "      <td>Wii Sports</td>\n",
              "      <td>82.74</td>\n",
              "      <td>2006</td>\n",
              "    </tr>\n",
              "    <tr>\n",
              "      <th>1</th>\n",
              "      <td>Mario Kart Wii</td>\n",
              "      <td>35.82</td>\n",
              "      <td>2008</td>\n",
              "    </tr>\n",
              "    <tr>\n",
              "      <th>2</th>\n",
              "      <td>Wii Sports Resort</td>\n",
              "      <td>33.00</td>\n",
              "      <td>2009</td>\n",
              "    </tr>\n",
              "    <tr>\n",
              "      <th>3</th>\n",
              "      <td>New Super Mario Bros.</td>\n",
              "      <td>30.01</td>\n",
              "      <td>2006</td>\n",
              "    </tr>\n",
              "    <tr>\n",
              "      <th>4</th>\n",
              "      <td>Wii Play</td>\n",
              "      <td>29.02</td>\n",
              "      <td>2006</td>\n",
              "    </tr>\n",
              "    <tr>\n",
              "      <th>5</th>\n",
              "      <td>New Super Mario Bros. Wii</td>\n",
              "      <td>28.62</td>\n",
              "      <td>2009</td>\n",
              "    </tr>\n",
              "    <tr>\n",
              "      <th>6</th>\n",
              "      <td>Nintendogs</td>\n",
              "      <td>24.76</td>\n",
              "      <td>2005</td>\n",
              "    </tr>\n",
              "    <tr>\n",
              "      <th>7</th>\n",
              "      <td>Mario Kart DS</td>\n",
              "      <td>23.42</td>\n",
              "      <td>2005</td>\n",
              "    </tr>\n",
              "    <tr>\n",
              "      <th>8</th>\n",
              "      <td>Wii Fit</td>\n",
              "      <td>22.72</td>\n",
              "      <td>2007</td>\n",
              "    </tr>\n",
              "    <tr>\n",
              "      <th>9</th>\n",
              "      <td>Wii Fit Plus</td>\n",
              "      <td>22.00</td>\n",
              "      <td>2009</td>\n",
              "    </tr>\n",
              "  </tbody>\n",
              "</table>\n",
              "</div>\n",
              "      <button class=\"colab-df-convert\" onclick=\"convertToInteractive('df-3b41de11-361e-4ed0-b8d4-9b7b0a5b8eca')\"\n",
              "              title=\"Convert this dataframe to an interactive table.\"\n",
              "              style=\"display:none;\">\n",
              "        \n",
              "  <svg xmlns=\"http://www.w3.org/2000/svg\" height=\"24px\"viewBox=\"0 0 24 24\"\n",
              "       width=\"24px\">\n",
              "    <path d=\"M0 0h24v24H0V0z\" fill=\"none\"/>\n",
              "    <path d=\"M18.56 5.44l.94 2.06.94-2.06 2.06-.94-2.06-.94-.94-2.06-.94 2.06-2.06.94zm-11 1L8.5 8.5l.94-2.06 2.06-.94-2.06-.94L8.5 2.5l-.94 2.06-2.06.94zm10 10l.94 2.06.94-2.06 2.06-.94-2.06-.94-.94-2.06-.94 2.06-2.06.94z\"/><path d=\"M17.41 7.96l-1.37-1.37c-.4-.4-.92-.59-1.43-.59-.52 0-1.04.2-1.43.59L10.3 9.45l-7.72 7.72c-.78.78-.78 2.05 0 2.83L4 21.41c.39.39.9.59 1.41.59.51 0 1.02-.2 1.41-.59l7.78-7.78 2.81-2.81c.8-.78.8-2.07 0-2.86zM5.41 20L4 18.59l7.72-7.72 1.47 1.35L5.41 20z\"/>\n",
              "  </svg>\n",
              "      </button>\n",
              "      \n",
              "  <style>\n",
              "    .colab-df-container {\n",
              "      display:flex;\n",
              "      flex-wrap:wrap;\n",
              "      gap: 12px;\n",
              "    }\n",
              "\n",
              "    .colab-df-convert {\n",
              "      background-color: #E8F0FE;\n",
              "      border: none;\n",
              "      border-radius: 50%;\n",
              "      cursor: pointer;\n",
              "      display: none;\n",
              "      fill: #1967D2;\n",
              "      height: 32px;\n",
              "      padding: 0 0 0 0;\n",
              "      width: 32px;\n",
              "    }\n",
              "\n",
              "    .colab-df-convert:hover {\n",
              "      background-color: #E2EBFA;\n",
              "      box-shadow: 0px 1px 2px rgba(60, 64, 67, 0.3), 0px 1px 3px 1px rgba(60, 64, 67, 0.15);\n",
              "      fill: #174EA6;\n",
              "    }\n",
              "\n",
              "    [theme=dark] .colab-df-convert {\n",
              "      background-color: #3B4455;\n",
              "      fill: #D2E3FC;\n",
              "    }\n",
              "\n",
              "    [theme=dark] .colab-df-convert:hover {\n",
              "      background-color: #434B5C;\n",
              "      box-shadow: 0px 1px 3px 1px rgba(0, 0, 0, 0.15);\n",
              "      filter: drop-shadow(0px 1px 2px rgba(0, 0, 0, 0.3));\n",
              "      fill: #FFFFFF;\n",
              "    }\n",
              "  </style>\n",
              "\n",
              "      <script>\n",
              "        const buttonEl =\n",
              "          document.querySelector('#df-3b41de11-361e-4ed0-b8d4-9b7b0a5b8eca button.colab-df-convert');\n",
              "        buttonEl.style.display =\n",
              "          google.colab.kernel.accessAllowed ? 'block' : 'none';\n",
              "\n",
              "        async function convertToInteractive(key) {\n",
              "          const element = document.querySelector('#df-3b41de11-361e-4ed0-b8d4-9b7b0a5b8eca');\n",
              "          const dataTable =\n",
              "            await google.colab.kernel.invokeFunction('convertToInteractive',\n",
              "                                                     [key], {});\n",
              "          if (!dataTable) return;\n",
              "\n",
              "          const docLinkHtml = 'Like what you see? Visit the ' +\n",
              "            '<a target=\"_blank\" href=https://colab.research.google.com/notebooks/data_table.ipynb>data table notebook</a>'\n",
              "            + ' to learn more about interactive tables.';\n",
              "          element.innerHTML = '';\n",
              "          dataTable['output_type'] = 'display_data';\n",
              "          await google.colab.output.renderOutput(dataTable, element);\n",
              "          const docLink = document.createElement('div');\n",
              "          docLink.innerHTML = docLinkHtml;\n",
              "          element.appendChild(docLink);\n",
              "        }\n",
              "      </script>\n",
              "    </div>\n",
              "  </div>\n",
              "  "
            ]
          },
          "metadata": {},
          "execution_count": 49
        },
        {
          "output_type": "stream",
          "name": "stdout",
          "text": [
            "time: 193 ms (started: 2022-06-07 20:22:16 +00:00)\n"
          ]
        }
      ]
    },
    {
      "cell_type": "code",
      "source": [
        "#2) Qual foi o total de vendas em NA e Global por Plataform no ano de 2005 ?\n",
        "#[SPARK]\n",
        "timeline_sales = df.filter(f.col(\"Year\")>=2005)\\\n",
        "                  .groupBy(\"Platform\",\"Year\")\\\n",
        "                  .agg(f.sum(\"Global_Sales\").alias(\"Global_Sales_Total\"),\n",
        "                       f.sum('NA_Sales').alias(\"NA_Sales_Total\"))\\\n",
        "                  .orderBy(f.desc(\"Global_Sales_Total\"))\n",
        "\n",
        "display_df(timeline_sales)"
      ],
      "metadata": {
        "colab": {
          "base_uri": "https://localhost:8080/",
          "height": 677
        },
        "id": "ha0h7Z5ToGgW",
        "outputId": "62f37e9c-f4b1-46d0-e15b-d54ce4ceac22"
      },
      "execution_count": 10,
      "outputs": [
        {
          "output_type": "execute_result",
          "data": {
            "text/plain": [
              "   Platform  Year  Global_Sales_Total  NA_Sales_Total\n",
              "0       Wii  2009              210.44          116.54\n",
              "1       Wii  2008              174.16           98.77\n",
              "2      X360  2010              171.05          107.21\n",
              "3       PS2  2005              160.65           85.60\n",
              "4       PS3  2011              159.37           64.80\n",
              "5       Wii  2007              154.97           84.25\n",
              "6        DS  2007              149.36           76.36\n",
              "7        DS  2008              147.89           79.40\n",
              "8      X360  2011              145.12           86.70\n",
              "9       PS3  2010              144.42           60.92\n",
              "10      Wii  2006              137.91           71.30\n",
              "11     X360  2008              135.76           82.44\n",
              "12      PS3  2009              132.34           62.63\n",
              "13      Wii  2010              131.80           75.03\n",
              "14       DS  2005              131.40           48.47\n",
              "15       DS  2009              121.99           62.41\n",
              "16       DS  2006              121.15           50.63\n",
              "17     X360  2009              120.85           73.97\n",
              "18      PS3  2008              119.69           57.18\n",
              "19      PS3  2013              117.39           41.31"
            ],
            "text/html": [
              "\n",
              "  <div id=\"df-452d7b6d-f287-4566-b38b-951c4e8783d0\">\n",
              "    <div class=\"colab-df-container\">\n",
              "      <div>\n",
              "<style scoped>\n",
              "    .dataframe tbody tr th:only-of-type {\n",
              "        vertical-align: middle;\n",
              "    }\n",
              "\n",
              "    .dataframe tbody tr th {\n",
              "        vertical-align: top;\n",
              "    }\n",
              "\n",
              "    .dataframe thead th {\n",
              "        text-align: right;\n",
              "    }\n",
              "</style>\n",
              "<table border=\"1\" class=\"dataframe\">\n",
              "  <thead>\n",
              "    <tr style=\"text-align: right;\">\n",
              "      <th></th>\n",
              "      <th>Platform</th>\n",
              "      <th>Year</th>\n",
              "      <th>Global_Sales_Total</th>\n",
              "      <th>NA_Sales_Total</th>\n",
              "    </tr>\n",
              "  </thead>\n",
              "  <tbody>\n",
              "    <tr>\n",
              "      <th>0</th>\n",
              "      <td>Wii</td>\n",
              "      <td>2009</td>\n",
              "      <td>210.44</td>\n",
              "      <td>116.54</td>\n",
              "    </tr>\n",
              "    <tr>\n",
              "      <th>1</th>\n",
              "      <td>Wii</td>\n",
              "      <td>2008</td>\n",
              "      <td>174.16</td>\n",
              "      <td>98.77</td>\n",
              "    </tr>\n",
              "    <tr>\n",
              "      <th>2</th>\n",
              "      <td>X360</td>\n",
              "      <td>2010</td>\n",
              "      <td>171.05</td>\n",
              "      <td>107.21</td>\n",
              "    </tr>\n",
              "    <tr>\n",
              "      <th>3</th>\n",
              "      <td>PS2</td>\n",
              "      <td>2005</td>\n",
              "      <td>160.65</td>\n",
              "      <td>85.60</td>\n",
              "    </tr>\n",
              "    <tr>\n",
              "      <th>4</th>\n",
              "      <td>PS3</td>\n",
              "      <td>2011</td>\n",
              "      <td>159.37</td>\n",
              "      <td>64.80</td>\n",
              "    </tr>\n",
              "    <tr>\n",
              "      <th>5</th>\n",
              "      <td>Wii</td>\n",
              "      <td>2007</td>\n",
              "      <td>154.97</td>\n",
              "      <td>84.25</td>\n",
              "    </tr>\n",
              "    <tr>\n",
              "      <th>6</th>\n",
              "      <td>DS</td>\n",
              "      <td>2007</td>\n",
              "      <td>149.36</td>\n",
              "      <td>76.36</td>\n",
              "    </tr>\n",
              "    <tr>\n",
              "      <th>7</th>\n",
              "      <td>DS</td>\n",
              "      <td>2008</td>\n",
              "      <td>147.89</td>\n",
              "      <td>79.40</td>\n",
              "    </tr>\n",
              "    <tr>\n",
              "      <th>8</th>\n",
              "      <td>X360</td>\n",
              "      <td>2011</td>\n",
              "      <td>145.12</td>\n",
              "      <td>86.70</td>\n",
              "    </tr>\n",
              "    <tr>\n",
              "      <th>9</th>\n",
              "      <td>PS3</td>\n",
              "      <td>2010</td>\n",
              "      <td>144.42</td>\n",
              "      <td>60.92</td>\n",
              "    </tr>\n",
              "    <tr>\n",
              "      <th>10</th>\n",
              "      <td>Wii</td>\n",
              "      <td>2006</td>\n",
              "      <td>137.91</td>\n",
              "      <td>71.30</td>\n",
              "    </tr>\n",
              "    <tr>\n",
              "      <th>11</th>\n",
              "      <td>X360</td>\n",
              "      <td>2008</td>\n",
              "      <td>135.76</td>\n",
              "      <td>82.44</td>\n",
              "    </tr>\n",
              "    <tr>\n",
              "      <th>12</th>\n",
              "      <td>PS3</td>\n",
              "      <td>2009</td>\n",
              "      <td>132.34</td>\n",
              "      <td>62.63</td>\n",
              "    </tr>\n",
              "    <tr>\n",
              "      <th>13</th>\n",
              "      <td>Wii</td>\n",
              "      <td>2010</td>\n",
              "      <td>131.80</td>\n",
              "      <td>75.03</td>\n",
              "    </tr>\n",
              "    <tr>\n",
              "      <th>14</th>\n",
              "      <td>DS</td>\n",
              "      <td>2005</td>\n",
              "      <td>131.40</td>\n",
              "      <td>48.47</td>\n",
              "    </tr>\n",
              "    <tr>\n",
              "      <th>15</th>\n",
              "      <td>DS</td>\n",
              "      <td>2009</td>\n",
              "      <td>121.99</td>\n",
              "      <td>62.41</td>\n",
              "    </tr>\n",
              "    <tr>\n",
              "      <th>16</th>\n",
              "      <td>DS</td>\n",
              "      <td>2006</td>\n",
              "      <td>121.15</td>\n",
              "      <td>50.63</td>\n",
              "    </tr>\n",
              "    <tr>\n",
              "      <th>17</th>\n",
              "      <td>X360</td>\n",
              "      <td>2009</td>\n",
              "      <td>120.85</td>\n",
              "      <td>73.97</td>\n",
              "    </tr>\n",
              "    <tr>\n",
              "      <th>18</th>\n",
              "      <td>PS3</td>\n",
              "      <td>2008</td>\n",
              "      <td>119.69</td>\n",
              "      <td>57.18</td>\n",
              "    </tr>\n",
              "    <tr>\n",
              "      <th>19</th>\n",
              "      <td>PS3</td>\n",
              "      <td>2013</td>\n",
              "      <td>117.39</td>\n",
              "      <td>41.31</td>\n",
              "    </tr>\n",
              "  </tbody>\n",
              "</table>\n",
              "</div>\n",
              "      <button class=\"colab-df-convert\" onclick=\"convertToInteractive('df-452d7b6d-f287-4566-b38b-951c4e8783d0')\"\n",
              "              title=\"Convert this dataframe to an interactive table.\"\n",
              "              style=\"display:none;\">\n",
              "        \n",
              "  <svg xmlns=\"http://www.w3.org/2000/svg\" height=\"24px\"viewBox=\"0 0 24 24\"\n",
              "       width=\"24px\">\n",
              "    <path d=\"M0 0h24v24H0V0z\" fill=\"none\"/>\n",
              "    <path d=\"M18.56 5.44l.94 2.06.94-2.06 2.06-.94-2.06-.94-.94-2.06-.94 2.06-2.06.94zm-11 1L8.5 8.5l.94-2.06 2.06-.94-2.06-.94L8.5 2.5l-.94 2.06-2.06.94zm10 10l.94 2.06.94-2.06 2.06-.94-2.06-.94-.94-2.06-.94 2.06-2.06.94z\"/><path d=\"M17.41 7.96l-1.37-1.37c-.4-.4-.92-.59-1.43-.59-.52 0-1.04.2-1.43.59L10.3 9.45l-7.72 7.72c-.78.78-.78 2.05 0 2.83L4 21.41c.39.39.9.59 1.41.59.51 0 1.02-.2 1.41-.59l7.78-7.78 2.81-2.81c.8-.78.8-2.07 0-2.86zM5.41 20L4 18.59l7.72-7.72 1.47 1.35L5.41 20z\"/>\n",
              "  </svg>\n",
              "      </button>\n",
              "      \n",
              "  <style>\n",
              "    .colab-df-container {\n",
              "      display:flex;\n",
              "      flex-wrap:wrap;\n",
              "      gap: 12px;\n",
              "    }\n",
              "\n",
              "    .colab-df-convert {\n",
              "      background-color: #E8F0FE;\n",
              "      border: none;\n",
              "      border-radius: 50%;\n",
              "      cursor: pointer;\n",
              "      display: none;\n",
              "      fill: #1967D2;\n",
              "      height: 32px;\n",
              "      padding: 0 0 0 0;\n",
              "      width: 32px;\n",
              "    }\n",
              "\n",
              "    .colab-df-convert:hover {\n",
              "      background-color: #E2EBFA;\n",
              "      box-shadow: 0px 1px 2px rgba(60, 64, 67, 0.3), 0px 1px 3px 1px rgba(60, 64, 67, 0.15);\n",
              "      fill: #174EA6;\n",
              "    }\n",
              "\n",
              "    [theme=dark] .colab-df-convert {\n",
              "      background-color: #3B4455;\n",
              "      fill: #D2E3FC;\n",
              "    }\n",
              "\n",
              "    [theme=dark] .colab-df-convert:hover {\n",
              "      background-color: #434B5C;\n",
              "      box-shadow: 0px 1px 3px 1px rgba(0, 0, 0, 0.15);\n",
              "      filter: drop-shadow(0px 1px 2px rgba(0, 0, 0, 0.3));\n",
              "      fill: #FFFFFF;\n",
              "    }\n",
              "  </style>\n",
              "\n",
              "      <script>\n",
              "        const buttonEl =\n",
              "          document.querySelector('#df-452d7b6d-f287-4566-b38b-951c4e8783d0 button.colab-df-convert');\n",
              "        buttonEl.style.display =\n",
              "          google.colab.kernel.accessAllowed ? 'block' : 'none';\n",
              "\n",
              "        async function convertToInteractive(key) {\n",
              "          const element = document.querySelector('#df-452d7b6d-f287-4566-b38b-951c4e8783d0');\n",
              "          const dataTable =\n",
              "            await google.colab.kernel.invokeFunction('convertToInteractive',\n",
              "                                                     [key], {});\n",
              "          if (!dataTable) return;\n",
              "\n",
              "          const docLinkHtml = 'Like what you see? Visit the ' +\n",
              "            '<a target=\"_blank\" href=https://colab.research.google.com/notebooks/data_table.ipynb>data table notebook</a>'\n",
              "            + ' to learn more about interactive tables.';\n",
              "          element.innerHTML = '';\n",
              "          dataTable['output_type'] = 'display_data';\n",
              "          await google.colab.output.renderOutput(dataTable, element);\n",
              "          const docLink = document.createElement('div');\n",
              "          docLink.innerHTML = docLinkHtml;\n",
              "          element.appendChild(docLink);\n",
              "        }\n",
              "      </script>\n",
              "    </div>\n",
              "  </div>\n",
              "  "
            ]
          },
          "metadata": {},
          "execution_count": 10
        }
      ]
    },
    {
      "cell_type": "code",
      "source": [
        "# [SQL]\n",
        "df.createOrReplaceTempView(\"videogame_sales\")\n",
        "\n",
        "timeline_sales = spark.sql(\"\"\"\n",
        "    SELECT Platform,\n",
        "           SUM(Global_Sales) AS Total_Global,\n",
        "           SUM(NA_Sales) AS Total_NA\n",
        "    FROM videogames_sales\n",
        "    WHERE Year == 2005\n",
        "    GROUP BY Platform\n",
        "    ORDER BY Total_Global DESC\n",
        "\"\"\")\n",
        "\n",
        "# display_df(sales_report_sql)"
      ],
      "metadata": {
        "id": "1PvasYEq3F-8"
      },
      "execution_count": null,
      "outputs": []
    },
    {
      "cell_type": "code",
      "source": [
        "spark.sql(\"\"\"Select * FROM videogame_sales2 WHERE Year >= 2004\"\"\")"
      ],
      "metadata": {
        "colab": {
          "base_uri": "https://localhost:8080/"
        },
        "id": "ARZRX19R0c5a",
        "outputId": "976362a8-bf53-4925-85de-c75646e4d996"
      },
      "execution_count": null,
      "outputs": [
        {
          "output_type": "execute_result",
          "data": {
            "text/plain": [
              "DataFrame[Rank: int, Name: string, Platform: string, Year: string, Genre: string, Publisher: string, NA_Sales: double, EU_Sales: double, JP_Sales: double, Other_Sales: double, Global_Sales: double]"
            ]
          },
          "metadata": {},
          "execution_count": 80
        }
      ]
    },
    {
      "cell_type": "markdown",
      "source": [
        "####------- PIVOT AND WHERE --------####"
      ],
      "metadata": {
        "id": "nD7CWicVq9JF"
      }
    },
    {
      "cell_type": "code",
      "source": [
        "# 3) Plotando a serie temporal das vendas das plataformas (pivoteamento necessario)\n",
        "\n",
        "import matplotlib.pyplot as plt\n",
        "\n",
        "# Primeiro Agrupamento e display\n",
        "timeline_sales_pivot = timeline_sales.select(\"Year\",\"Platform\",\"Global_Sales_Total\")\\\n",
        "                    .groupBy(\"Year\",\"Platform\")\\\n",
        "                    .agg(f.sum(\"Global_Sales_Total\").alias(\"Global_Sales_Total\"))\\\n",
        "                    .orderBy(f.asc(\"Year\"))\n",
        "\n",
        "\n",
        "display_df(timeline_sales_pivot)\n",
        "                    "
      ],
      "metadata": {
        "id": "UVJBbU_fN7XB"
      },
      "execution_count": null,
      "outputs": []
    },
    {
      "cell_type": "code",
      "source": [
        "# Realizando o PIVOT e WHERE\n",
        "%matplotlib inline\n",
        "\n",
        "timeline_sales_pivot = timeline_sales.select(\"Year\",\"Platform\",\"Global_Sales_Total\")\\\n",
        "                    .where(\"Platform in ('XB','PS2','PS3','X360')\")\\\n",
        "                    .groupBy(\"Year\")\\\n",
        "                    .pivot(\"Platform\")\\\n",
        "                    .agg(f.sum(\"Global_Sales_Total\"))\\\n",
        "                    .orderBy(f.asc(\"Year\"))\n",
        "\n",
        "# Deixar todo o processamento do lado do pyspark e colocar no pandas somento o df final!\n",
        "# display_df(timeline_sales_pivot)\n",
        "timeline_sales_pivot.toPandas().set_index(\"Year\").plot()"
      ],
      "metadata": {
        "colab": {
          "base_uri": "https://localhost:8080/",
          "height": 296
        },
        "id": "pO5rY41cpSrS",
        "outputId": "5cfbb30e-174f-4a8b-94d7-2da1d8f0aad9"
      },
      "execution_count": 23,
      "outputs": [
        {
          "output_type": "execute_result",
          "data": {
            "text/plain": [
              "<matplotlib.axes._subplots.AxesSubplot at 0x7f967e302e90>"
            ]
          },
          "metadata": {},
          "execution_count": 23
        },
        {
          "output_type": "display_data",
          "data": {
            "text/plain": [
              "<Figure size 432x288 with 1 Axes>"
            ],
            "image/png": "[encoded data removed]"
          },
          "metadata": {
            "needs_background": "light"
          }
        }
      ]
    },
    {
      "cell_type": "markdown",
      "source": [
        "### **AULA 2**\n",
        "\n",
        "Spark **UDFs** (User Defined Functions) - Funções especificas definidas pelos usuarios e disponivel para uso em tempo de execução.\n",
        "\n"
      ],
      "metadata": {
        "id": "C-rUnHDouTcg"
      }
    },
    {
      "cell_type": "code",
      "source": [
        "from pyspark.sql.types import DoubleType\n",
        "from pyspark.sql.functions import udf\n",
        "\n",
        "#Função para ser usada nos dataframes - \n",
        "# 1) 10% de imposto sobre o TOTAL\n",
        "\n",
        "def tax_collected(value):\n",
        "  return (value*0.1)\n",
        "\n",
        "#Conversão da função UDF para uso em Pyspark API\n",
        "tax_collected_udf = udf(tax_collected, DoubleType())\n",
        "\n",
        "#Conversão da função UDF para uso em Spark SQL\n",
        "spark.udf.register(\"tax_collected_udf_sql\", tax_collected, DoubleType())\n"
      ],
      "metadata": {
        "colab": {
          "base_uri": "https://localhost:8080/"
        },
        "id": "0z3xBwgtu6cE",
        "outputId": "8073156a-7df6-413f-e06d-7ff39ebc4da3"
      },
      "execution_count": 36,
      "outputs": [
        {
          "output_type": "execute_result",
          "data": {
            "text/plain": [
              "<function __main__.tax_collected>"
            ]
          },
          "metadata": {},
          "execution_count": 36
        }
      ]
    },
    {
      "cell_type": "code",
      "source": [
        "#[SQL]\n",
        "%timeit \n",
        "\n",
        "udf_tax_sales = spark.sql(\"\"\"\n",
        "            SELECT Platform,\n",
        "            NA_Sales,\n",
        "            CAST(tax_collected_udf_sql(NA_Sales) as double) as TAX\n",
        "            FROM videogame_sales\n",
        "            LIMIT 10\n",
        "\"\"\")\n",
        "\n",
        "display_df(udf_tax_sales)"
      ],
      "metadata": {
        "colab": {
          "base_uri": "https://localhost:8080/",
          "height": 380
        },
        "id": "EMGt0DhhwA9y",
        "outputId": "76a80ca7-8276-4062-a4a9-0294ccd0fa5b"
      },
      "execution_count": 56,
      "outputs": [
        {
          "output_type": "execute_result",
          "data": {
            "text/plain": [
              "  Platform  NA_Sales    TAX\n",
              "0      Wii     41.49  4.149\n",
              "1      NES     29.08  2.908\n",
              "2      Wii     15.85  1.585\n",
              "3      Wii     15.75  1.575\n",
              "4       GB     11.27  1.127\n",
              "5       GB     23.20  2.320\n",
              "6       DS     11.38  1.138\n",
              "7      Wii     14.03  1.403\n",
              "8      Wii     14.59  1.459\n",
              "9      NES     26.93  2.693"
            ],
            "text/html": [
              "\n",
              "  <div id=\"df-be7c2b0e-4af8-495d-935e-7d27adb1ca2d\">\n",
              "    <div class=\"colab-df-container\">\n",
              "      <div>\n",
              "<style scoped>\n",
              "    .dataframe tbody tr th:only-of-type {\n",
              "        vertical-align: middle;\n",
              "    }\n",
              "\n",
              "    .dataframe tbody tr th {\n",
              "        vertical-align: top;\n",
              "    }\n",
              "\n",
              "    .dataframe thead th {\n",
              "        text-align: right;\n",
              "    }\n",
              "</style>\n",
              "<table border=\"1\" class=\"dataframe\">\n",
              "  <thead>\n",
              "    <tr style=\"text-align: right;\">\n",
              "      <th></th>\n",
              "      <th>Platform</th>\n",
              "      <th>NA_Sales</th>\n",
              "      <th>TAX</th>\n",
              "    </tr>\n",
              "  </thead>\n",
              "  <tbody>\n",
              "    <tr>\n",
              "      <th>0</th>\n",
              "      <td>Wii</td>\n",
              "      <td>41.49</td>\n",
              "      <td>4.149</td>\n",
              "    </tr>\n",
              "    <tr>\n",
              "      <th>1</th>\n",
              "      <td>NES</td>\n",
              "      <td>29.08</td>\n",
              "      <td>2.908</td>\n",
              "    </tr>\n",
              "    <tr>\n",
              "      <th>2</th>\n",
              "      <td>Wii</td>\n",
              "      <td>15.85</td>\n",
              "      <td>1.585</td>\n",
              "    </tr>\n",
              "    <tr>\n",
              "      <th>3</th>\n",
              "      <td>Wii</td>\n",
              "      <td>15.75</td>\n",
              "      <td>1.575</td>\n",
              "    </tr>\n",
              "    <tr>\n",
              "      <th>4</th>\n",
              "      <td>GB</td>\n",
              "      <td>11.27</td>\n",
              "      <td>1.127</td>\n",
              "    </tr>\n",
              "    <tr>\n",
              "      <th>5</th>\n",
              "      <td>GB</td>\n",
              "      <td>23.20</td>\n",
              "      <td>2.320</td>\n",
              "    </tr>\n",
              "    <tr>\n",
              "      <th>6</th>\n",
              "      <td>DS</td>\n",
              "      <td>11.38</td>\n",
              "      <td>1.138</td>\n",
              "    </tr>\n",
              "    <tr>\n",
              "      <th>7</th>\n",
              "      <td>Wii</td>\n",
              "      <td>14.03</td>\n",
              "      <td>1.403</td>\n",
              "    </tr>\n",
              "    <tr>\n",
              "      <th>8</th>\n",
              "      <td>Wii</td>\n",
              "      <td>14.59</td>\n",
              "      <td>1.459</td>\n",
              "    </tr>\n",
              "    <tr>\n",
              "      <th>9</th>\n",
              "      <td>NES</td>\n",
              "      <td>26.93</td>\n",
              "      <td>2.693</td>\n",
              "    </tr>\n",
              "  </tbody>\n",
              "</table>\n",
              "</div>\n",
              "      <button class=\"colab-df-convert\" onclick=\"convertToInteractive('df-be7c2b0e-4af8-495d-935e-7d27adb1ca2d')\"\n",
              "              title=\"Convert this dataframe to an interactive table.\"\n",
              "              style=\"display:none;\">\n",
              "        \n",
              "  <svg xmlns=\"http://www.w3.org/2000/svg\" height=\"24px\"viewBox=\"0 0 24 24\"\n",
              "       width=\"24px\">\n",
              "    <path d=\"M0 0h24v24H0V0z\" fill=\"none\"/>\n",
              "    <path d=\"M18.56 5.44l.94 2.06.94-2.06 2.06-.94-2.06-.94-.94-2.06-.94 2.06-2.06.94zm-11 1L8.5 8.5l.94-2.06 2.06-.94-2.06-.94L8.5 2.5l-.94 2.06-2.06.94zm10 10l.94 2.06.94-2.06 2.06-.94-2.06-.94-.94-2.06-.94 2.06-2.06.94z\"/><path d=\"M17.41 7.96l-1.37-1.37c-.4-.4-.92-.59-1.43-.59-.52 0-1.04.2-1.43.59L10.3 9.45l-7.72 7.72c-.78.78-.78 2.05 0 2.83L4 21.41c.39.39.9.59 1.41.59.51 0 1.02-.2 1.41-.59l7.78-7.78 2.81-2.81c.8-.78.8-2.07 0-2.86zM5.41 20L4 18.59l7.72-7.72 1.47 1.35L5.41 20z\"/>\n",
              "  </svg>\n",
              "      </button>\n",
              "      \n",
              "  <style>\n",
              "    .colab-df-container {\n",
              "      display:flex;\n",
              "      flex-wrap:wrap;\n",
              "      gap: 12px;\n",
              "    }\n",
              "\n",
              "    .colab-df-convert {\n",
              "      background-color: #E8F0FE;\n",
              "      border: none;\n",
              "      border-radius: 50%;\n",
              "      cursor: pointer;\n",
              "      display: none;\n",
              "      fill: #1967D2;\n",
              "      height: 32px;\n",
              "      padding: 0 0 0 0;\n",
              "      width: 32px;\n",
              "    }\n",
              "\n",
              "    .colab-df-convert:hover {\n",
              "      background-color: #E2EBFA;\n",
              "      box-shadow: 0px 1px 2px rgba(60, 64, 67, 0.3), 0px 1px 3px 1px rgba(60, 64, 67, 0.15);\n",
              "      fill: #174EA6;\n",
              "    }\n",
              "\n",
              "    [theme=dark] .colab-df-convert {\n",
              "      background-color: #3B4455;\n",
              "      fill: #D2E3FC;\n",
              "    }\n",
              "\n",
              "    [theme=dark] .colab-df-convert:hover {\n",
              "      background-color: #434B5C;\n",
              "      box-shadow: 0px 1px 3px 1px rgba(0, 0, 0, 0.15);\n",
              "      filter: drop-shadow(0px 1px 2px rgba(0, 0, 0, 0.3));\n",
              "      fill: #FFFFFF;\n",
              "    }\n",
              "  </style>\n",
              "\n",
              "      <script>\n",
              "        const buttonEl =\n",
              "          document.querySelector('#df-be7c2b0e-4af8-495d-935e-7d27adb1ca2d button.colab-df-convert');\n",
              "        buttonEl.style.display =\n",
              "          google.colab.kernel.accessAllowed ? 'block' : 'none';\n",
              "\n",
              "        async function convertToInteractive(key) {\n",
              "          const element = document.querySelector('#df-be7c2b0e-4af8-495d-935e-7d27adb1ca2d');\n",
              "          const dataTable =\n",
              "            await google.colab.kernel.invokeFunction('convertToInteractive',\n",
              "                                                     [key], {});\n",
              "          if (!dataTable) return;\n",
              "\n",
              "          const docLinkHtml = 'Like what you see? Visit the ' +\n",
              "            '<a target=\"_blank\" href=https://colab.research.google.com/notebooks/data_table.ipynb>data table notebook</a>'\n",
              "            + ' to learn more about interactive tables.';\n",
              "          element.innerHTML = '';\n",
              "          dataTable['output_type'] = 'display_data';\n",
              "          await google.colab.output.renderOutput(dataTable, element);\n",
              "          const docLink = document.createElement('div');\n",
              "          docLink.innerHTML = docLinkHtml;\n",
              "          element.appendChild(docLink);\n",
              "        }\n",
              "      </script>\n",
              "    </div>\n",
              "  </div>\n",
              "  "
            ]
          },
          "metadata": {},
          "execution_count": 56
        },
        {
          "output_type": "stream",
          "name": "stdout",
          "text": [
            "time: 205 ms (started: 2022-06-07 20:37:40 +00:00)\n"
          ]
        }
      ]
    },
    {
      "cell_type": "code",
      "source": [
        "#[PYSPARK] A UDF fica dentro do SELECT\n",
        "\n",
        "udf_tax_sales_py = df.select(\"Platform\",\"NA_Sales\",tax_collected_udf(\"NA_Sales\").alias(\"TAX\")).limit(10)\n",
        "\n",
        "display_df(udf_tax_sales_py)"
      ],
      "metadata": {
        "id": "2gw2s0P9zPR4"
      },
      "execution_count": null,
      "outputs": []
    },
    {
      "cell_type": "markdown",
      "source": [
        "Spark **UDFs OBJETOS EXTERNOS**\n",
        "\n",
        "> É possivel criar UDFs com objetos Python, de modo que possam ser utilizados de forma paralela pelo Cluster Spark.\n",
        "\n"
      ],
      "metadata": {
        "id": "1-nlGiB21t7D"
      }
    },
    {
      "cell_type": "code",
      "source": [
        "# 2) \n",
        "import hashlib\n",
        "from pyspark.sql.types import StringType\n",
        "\n",
        "def generate_hash(value):\n",
        "  hash_object = hashlib.md5(bytes(value,'utf8'))\n",
        "  return hash_object.hexdigest()\n",
        "\n",
        "#SPARK SQL\n",
        "spark.udf.register(\"generate_hash_sql\",generate_hash,StringType())"
      ],
      "metadata": {
        "colab": {
          "base_uri": "https://localhost:8080/"
        },
        "id": "xm6QWgnP1ofX",
        "outputId": "2b8325e3-24a4-49e9-f867-1ee9c7b55170"
      },
      "execution_count": 58,
      "outputs": [
        {
          "output_type": "execute_result",
          "data": {
            "text/plain": [
              "<function __main__.generate_hash>"
            ]
          },
          "metadata": {},
          "execution_count": 58
        },
        {
          "output_type": "stream",
          "name": "stdout",
          "text": [
            "time: 26.6 ms (started: 2022-06-07 20:38:05 +00:00)\n"
          ]
        }
      ]
    },
    {
      "cell_type": "code",
      "source": [
        "udf_hash = spark.sql(\"\"\"\n",
        "        SELECT Platform,\n",
        "        generate_hash_sql(Platform) AS Platform_Hash\n",
        "        FROM videogame_sales\n",
        "        LIMIT 10 \n",
        "        \"\"\")\n",
        "\n",
        "display_df(udf_hash)"
      ],
      "metadata": {
        "id": "qf2Rh63m3m8g"
      },
      "execution_count": null,
      "outputs": []
    },
    {
      "cell_type": "markdown",
      "source": [
        "### **AULA 3**\n",
        "\n",
        "Spark **JOINS**"
      ],
      "metadata": {
        "id": "0KTnG0nJ5Kpz"
      }
    }
  ]
}