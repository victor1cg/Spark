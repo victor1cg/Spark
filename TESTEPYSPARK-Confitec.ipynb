{
  "nbformat": 4,
  "nbformat_minor": 0,
  "metadata": {
    "colab": {
      "name": "Confitec_Pyspark.ipynb",
      "provenance": [],
      "collapsed_sections": [],
      "mount_file_id": "1rptF-VwgZth0haOLbdild-02EfRJ-TDI",
      "authorship_tag": "ABX9TyMo9Kv+6jGDNcv33wKhWA9R",
      "include_colab_link": true
    },
    "kernelspec": {
      "name": "python3",
      "display_name": "Python 3"
    },
    "language_info": {
      "name": "python"
    }
  },
  "cells": [
    {
      "cell_type": "markdown",
      "metadata": {
        "id": "view-in-github",
        "colab_type": "text"
      },
      "source": [
        "<a href=\"https://colab.research.google.com/github/victor1cg/Spark/blob/main/Confitec_Pyspark.ipynb\" target=\"_parent\"><img src=\"https://colab.research.google.com/assets/colab-badge.svg\" alt=\"Open In Colab\"/></a>"
      ]
    },
    {
      "cell_type": "markdown",
      "source": [
        "**# Avaliação Confitec #**\n",
        "\n",
        "##### Nome : Victor Goncalves\n",
        "##### Data : 13/03/2022\n",
        "#### -------- PySpark --------"
      ],
      "metadata": {
        "id": "uyR3p4nwxk5f"
      }
    },
    {
      "cell_type": "code",
      "execution_count": 81,
      "metadata": {
        "id": "kvpfAxhdGjzd"
      },
      "outputs": [],
      "source": [
        "# Utilizo o Google Colab para rodar o script e sessão de execução\n",
        "# instalar as dependências\n",
        "!apt-get install openjdk-8-jdk-headless -qq > /dev/null\n",
        "!wget -q https://archive.apache.org/dist/spark/spark-2.4.4/spark-2.4.4-bin-hadoop2.7.tgz\n",
        "!tar xf spark-2.4.4-bin-hadoop2.7.tgz\n",
        "!pip install -q findspark"
      ]
    },
    {
      "cell_type": "code",
      "source": [
        "# configurar as variáveis de ambiente JAVA e SPARK\n",
        "import os\n",
        "os.environ[\"JAVA_HOME\"] = \"/usr/lib/jvm/java-8-openjdk-amd64\"\n",
        "os.environ[\"SPARK_HOME\"] = \"/content/spark-2.4.4-bin-hadoop2.7\"\n",
        "\n",
        "# tornar o pyspark \"importável\"\n",
        "import findspark\n",
        "findspark.init('spark-2.4.4-bin-hadoop2.7')"
      ],
      "metadata": {
        "id": "eF38FKt_GvlJ"
      },
      "execution_count": 82,
      "outputs": []
    },
    {
      "cell_type": "code",
      "source": [
        "import pyspark\n",
        "import pyspark.sql.functions as func\n",
        "\n",
        "from pyspark.sql.types import *\n",
        "from pyspark.sql import SparkSession\n",
        "from datetime import *\n",
        "from datetime import datetime\n",
        "\n",
        "spark = SparkSession.builder.getOrCreate()\n",
        "\n",
        "print(spark)"
      ],
      "metadata": {
        "colab": {
          "base_uri": "https://localhost:8080/"
        },
        "id": "GRcZGWgWGzBB",
        "outputId": "d5d231b0-8338-45b6-93d7-9098c4701c4d"
      },
      "execution_count": 83,
      "outputs": [
        {
          "output_type": "stream",
          "name": "stdout",
          "text": [
            "<pyspark.sql.session.SparkSession object at 0x7f1e423eae90>\n"
          ]
        }
      ]
    },
    {
      "cell_type": "code",
      "source": [
        "# Importando os dados .parquet ao dataframe spark\n",
        "df = spark.read.parquet('OriginaisNetflix.parquet')"
      ],
      "metadata": {
        "id": "i-rtQAUZLb8p"
      },
      "execution_count": 133,
      "outputs": []
    },
    {
      "cell_type": "code",
      "source": [
        "# Analise dos dados importado :\n",
        "# > 358 linhas e 15 colunas\n",
        "print(df.count())\n",
        "print(len(df.columns))\n",
        "\n",
        "# visualizar dados Top 10\n",
        "df.show(10)\n",
        "# visualizar Schema\n",
        "df.printSchema()"
      ],
      "metadata": {
        "colab": {
          "base_uri": "https://localhost:8080/"
        },
        "id": "aak4qrBHIT6M",
        "outputId": "46e27b50-2b79-48c7-d1b5-847ec1aff2b7"
      },
      "execution_count": 104,
      "outputs": [
        {
          "output_type": "stream",
          "name": "stdout",
          "text": [
            "358\n",
            "15\n",
            "+--------------------+--------------------+--------------------+---------+--------------------+-------------+--------------+-----------+---------+---------+-------+------+-----+--------+--------------------+\n",
            "|               Title|               Genre|         GenreLabels| Premiere|             Seasons|SeasonsParsed|EpisodesParsed|     Length|MinLength|MaxLength| Status|Active|Table|Language|         dt_inclusao|\n",
            "+--------------------+--------------------+--------------------+---------+--------------------+-------------+--------------+-----------+---------+---------+-------+------+-----+--------+--------------------+\n",
            "|      House of Cards|     Political drama|     political,drama| 1-Feb-13|6 seasons, 73 epi...|            6|            73| 42–59 min.|       42|       59|  Ended|     0|Drama| English|2021-03-16T21:20:...|\n",
            "|       Hemlock Grove|     Horror/thriller|     horror,thriller|19-Apr-13|3 seasons, 33 epi...|            3|            33| 45–58 min.|       45|       58|  Ended|     0|Drama| English|2021-03-16T21:20:...|\n",
            "|Orange Is the New...|        Comedy-drama|        comedy-drama|11-Jul-13|6 seasons, 78 epi...|            6|            78| 50–92 min.|       50|       92|Renewed|     1|Drama| English|2021-03-16T21:20:...|\n",
            "|          Marco Polo|    Historical drama|    historical,drama|12-Dec-14|2 seasons, 20 epi...|            2|            20| 48–65 min.|       48|       65|  Ended|     0|Drama| English|2021-03-16T21:20:...|\n",
            "|           Bloodline|            Thriller|            thriller|20-Mar-15|3 seasons, 33 epi...|            3|            33| 48–68 min.|       48|       68|  Ended|     0|Drama| English|2021-03-16T21:20:...|\n",
            "|              Sense8|     Science fiction|     science-fiction| 5-Jun-15|2 seasons, 24 epi...|            2|            24|45–152 min.|       45|      152|  Ended|     0|Drama| English|2021-03-16T21:20:...|\n",
            "|              Narcos|         Crime drama|         crime,drama|28-Aug-15|3 seasons, 30 epi...|            3|            30| 43–60 min.|       43|       60|  Ended|     0|Drama| English|2021-03-16T21:20:...|\n",
            "|     Stranger Things|Science fiction/h...|science-fiction,h...|15-Jul-16|2 seasons, 17 epi...|            2|            17| 42–62 min.|       42|       62|Renewed|     1|Drama| English|2021-03-16T21:20:...|\n",
            "|        The Get Down|       Musical drama|       musical,drama|12-Aug-16|2 parts, 11 episodes|            0|            11| 50–93 min.|       50|       93|  Ended|     0|Drama| English|2021-03-16T21:20:...|\n",
            "|           The Crown|    Historical drama|    historical,drama| 4-Nov-16|2 seasons, 20 epi...|            2|            20| 54–61 min.|       54|       61|Renewed|     1|Drama| English|2021-03-16T21:20:...|\n",
            "+--------------------+--------------------+--------------------+---------+--------------------+-------------+--------------+-----------+---------+---------+-------+------+-----+--------+--------------------+\n",
            "only showing top 10 rows\n",
            "\n",
            "root\n",
            " |-- Title: string (nullable = true)\n",
            " |-- Genre: string (nullable = true)\n",
            " |-- GenreLabels: string (nullable = true)\n",
            " |-- Premiere: string (nullable = true)\n",
            " |-- Seasons: string (nullable = true)\n",
            " |-- SeasonsParsed: long (nullable = true)\n",
            " |-- EpisodesParsed: long (nullable = true)\n",
            " |-- Length: string (nullable = true)\n",
            " |-- MinLength: long (nullable = true)\n",
            " |-- MaxLength: long (nullable = true)\n",
            " |-- Status: string (nullable = true)\n",
            " |-- Active: long (nullable = true)\n",
            " |-- Table: string (nullable = true)\n",
            " |-- Language: string (nullable = true)\n",
            " |-- dt_inclusao: string (nullable = true)\n",
            "\n"
          ]
        }
      ]
    },
    {
      "cell_type": "markdown",
      "source": [
        "###### Exercícios"
      ],
      "metadata": {
        "id": "6mGiyz-Zz_mV"
      }
    },
    {
      "cell_type": "code",
      "source": [
        "# 1. Transformar os campos \"Premiere\" e \"dt_inclusao\" de string para datetime.\n",
        "\n",
        "## IMPORTANTE:\n",
        "# Primeiro rodar o ex 6 que contem a funcao date_converter\n",
        "df = df.withColumn('Premiere',mydate_converter(col('Premiere')))\n",
        "df = df.withColumn(\"dt_inclusao\",df.dt_inclusao.cast(\"date\"))\n",
        "\n",
        "df.printSchema()"
      ],
      "metadata": {
        "id": "a4haoeOlKefy",
        "colab": {
          "base_uri": "https://localhost:8080/"
        },
        "outputId": "9eb9357b-e25b-46d4-eb41-b7e1add0b22e"
      },
      "execution_count": 134,
      "outputs": [
        {
          "output_type": "stream",
          "name": "stdout",
          "text": [
            "root\n",
            " |-- Title: string (nullable = true)\n",
            " |-- Genre: string (nullable = true)\n",
            " |-- GenreLabels: string (nullable = true)\n",
            " |-- Premiere: string (nullable = true)\n",
            " |-- Seasons: string (nullable = true)\n",
            " |-- SeasonsParsed: long (nullable = true)\n",
            " |-- EpisodesParsed: long (nullable = true)\n",
            " |-- Length: string (nullable = true)\n",
            " |-- MinLength: long (nullable = true)\n",
            " |-- MaxLength: long (nullable = true)\n",
            " |-- Status: string (nullable = true)\n",
            " |-- Active: long (nullable = true)\n",
            " |-- Table: string (nullable = true)\n",
            " |-- Language: string (nullable = true)\n",
            " |-- dt_inclusao: date (nullable = true)\n",
            "\n"
          ]
        }
      ]
    },
    {
      "cell_type": "code",
      "source": [
        "df.show(10)"
      ],
      "metadata": {
        "colab": {
          "base_uri": "https://localhost:8080/"
        },
        "id": "Jhcxt4Wad2-5",
        "outputId": "68606f4b-76e0-4bc0-aea4-5a6b41f5469b"
      },
      "execution_count": 135,
      "outputs": [
        {
          "output_type": "stream",
          "name": "stdout",
          "text": [
            "+--------------------+--------------------+--------------------+----------+--------------------+-------------+--------------+-----------+---------+---------+-------+------+-----+--------+-----------+\n",
            "|               Title|               Genre|         GenreLabels|  Premiere|             Seasons|SeasonsParsed|EpisodesParsed|     Length|MinLength|MaxLength| Status|Active|Table|Language|dt_inclusao|\n",
            "+--------------------+--------------------+--------------------+----------+--------------------+-------------+--------------+-----------+---------+---------+-------+------+-----+--------+-----------+\n",
            "|      House of Cards|     Political drama|     political,drama|2013-02-01|6 seasons, 73 epi...|            6|            73| 42–59 min.|       42|       59|  Ended|     0|Drama| English| 2021-03-16|\n",
            "|       Hemlock Grove|     Horror/thriller|     horror,thriller|2013-04-19|3 seasons, 33 epi...|            3|            33| 45–58 min.|       45|       58|  Ended|     0|Drama| English| 2021-03-16|\n",
            "|Orange Is the New...|        Comedy-drama|        comedy-drama|2013-07-11|6 seasons, 78 epi...|            6|            78| 50–92 min.|       50|       92|Renewed|     1|Drama| English| 2021-03-16|\n",
            "|          Marco Polo|    Historical drama|    historical,drama|2014-12-12|2 seasons, 20 epi...|            2|            20| 48–65 min.|       48|       65|  Ended|     0|Drama| English| 2021-03-16|\n",
            "|           Bloodline|            Thriller|            thriller|2015-03-20|3 seasons, 33 epi...|            3|            33| 48–68 min.|       48|       68|  Ended|     0|Drama| English| 2021-03-16|\n",
            "|              Sense8|     Science fiction|     science-fiction|2015-06-05|2 seasons, 24 epi...|            2|            24|45–152 min.|       45|      152|  Ended|     0|Drama| English| 2021-03-16|\n",
            "|              Narcos|         Crime drama|         crime,drama|2015-08-28|3 seasons, 30 epi...|            3|            30| 43–60 min.|       43|       60|  Ended|     0|Drama| English| 2021-03-16|\n",
            "|     Stranger Things|Science fiction/h...|science-fiction,h...|2016-07-15|2 seasons, 17 epi...|            2|            17| 42–62 min.|       42|       62|Renewed|     1|Drama| English| 2021-03-16|\n",
            "|        The Get Down|       Musical drama|       musical,drama|2016-08-12|2 parts, 11 episodes|            0|            11| 50–93 min.|       50|       93|  Ended|     0|Drama| English| 2021-03-16|\n",
            "|           The Crown|    Historical drama|    historical,drama|2016-11-04|2 seasons, 20 epi...|            2|            20| 54–61 min.|       54|       61|Renewed|     1|Drama| English| 2021-03-16|\n",
            "+--------------------+--------------------+--------------------+----------+--------------------+-------------+--------------+-----------+---------+---------+-------+------+-----+--------+-----------+\n",
            "only showing top 10 rows\n",
            "\n"
          ]
        }
      ]
    },
    {
      "cell_type": "code",
      "source": [
        "# 2. Ordenar os dados por ativos e gênero de forma decrescente, 0 = inativo e 1 = ativo, todos com número 1 devem aparecer primeiro.\n",
        "\n",
        "df_temp = df.sort(col('Active').desc(),col('Genre').desc())\n",
        "df_temp.show(20)"
      ],
      "metadata": {
        "id": "N4HX3FHkNeDh",
        "colab": {
          "base_uri": "https://localhost:8080/"
        },
        "outputId": "f2314ae9-cc12-4219-bd89-50c68e4dcd34"
      },
      "execution_count": 90,
      "outputs": [
        {
          "output_type": "stream",
          "name": "stdout",
          "text": [
            "+--------------------+--------------------+--------------------+----------+--------------------+-------------+--------------+----------+---------+---------+-------+------+--------+--------+-----------+\n",
            "|               Title|               Genre|         GenreLabels|  Premiere|             Seasons|SeasonsParsed|EpisodesParsed|    Length|MinLength|MaxLength| Status|Active|   Table|Language|dt_inclusao|\n",
            "+--------------------+--------------------+--------------------+----------+--------------------+-------------+--------------+----------+---------+---------+-------+------+--------+--------+-----------+\n",
            "|          True Tunes|chrildrens musica...|chrildrens,musica...|2019-07-12|                 TBA|            0|             0|       TBA|        0|        0|Pending|     1|Children| English| 2021-03-16|\n",
            "|Super Monsters Mo...|chrildrens musica...|chrildrens,musica...|2018-09-14|1 season, 4 episodes|            1|             4|    2 min.|        2|        2|Pending|     1|Children| English| 2021-03-16|\n",
            "|Dance & Sing with...|chrildrens musica...|chrildrens,musica...|2018-05-18|1 season, 11 epis...|            1|            11|    2 min.|        2|        2|Pending|     1|Children| English| 2021-03-16|\n",
            "|      Super Monsters| childrens-animation| childrens-animation|2017-10-13|2 seasons, 16 epi...|            2|            16|22–23 min.|       22|       23|Renewed|     1|Children| English| 2021-03-16|\n",
            "|Charlie's Colorfo...| childrens-animation| childrens-animation|2019-03-22|1 season, 13 epis...|            1|            13|   25 min.|       25|       25|Pending|     1|Children| English| 2021-03-16|\n",
            "|Stretch Armstrong...| childrens-animation| childrens-animation|2017-11-17|2 seasons, 23 epi...|            2|            23|   23 min.|       23|       23|Pending|     1|Children| English| 2021-03-16|\n",
            "|YooHoo to the Rescue| childrens-animation| childrens-animation|2019-03-15|1 season, 26 epis...|            1|            26|13–14 min.|       13|       14|Pending|     1|Children| English| 2021-03-16|\n",
            "|Cupcake & Dino: G...| childrens-animation| childrens-animation|2018-07-27|2 seasons, 26 epi...|            2|            26|22–23 min.|       22|       23|Pending|     1|Children| English| 2021-03-16|\n",
            "|   The Dragon Prince| childrens-animation| childrens-animation|2018-09-14|2 seasons, 18 epi...|            2|            18|25–27 min.|       25|       27|Renewed|     1|Children| English| 2021-03-16|\n",
            "|          The Hollow| childrens-animation| childrens-animation|2018-06-08|1 season, 10 epis...|            1|            10|   24 min.|       24|       24|Renewed|     1|Children| English| 2021-03-16|\n",
            "|        Larva Island| childrens-animation| childrens-animation|2018-10-19|2 seasons, 26 epi...|            2|            26|    8 min.|        8|        8|Pending|     1|Children| English| 2021-03-16|\n",
            "|Harvey Girls Fore...| childrens-animation| childrens-animation|2018-06-29|2 seasons, 26 epi...|            2|            26|   24 min.|       24|       24|Pending|     1|Children| English| 2021-03-16|\n",
            "|Kulipari: Dream W...| childrens-animation| childrens-animation|2018-11-20|1 season, 10 epis...|            1|            10|   23 min.|       23|       23|Pending|     1|Children| English| 2021-03-16|\n",
            "|     Carmen Sandiego| childrens-animation| childrens-animation|2019-01-18|1 season, 9 episodes|            1|             9|23–33 min.|       23|       33|Renewed|     1|Children| English| 2021-03-16|\n",
            "|   Ask the StoryBots| childrens-animation| childrens-animation|2016-08-12|2 seasons, 14 epi...|            2|            14|20–28 min.|       20|       28|Renewed|     1|Children| English| 2021-03-16|\n",
            "|               Hilda| childrens-animation| childrens-animation|2018-09-21|1 season, 13 epis...|            1|            13|   24 min.|       24|       24|Renewed|     1|Children| English| 2021-03-16|\n",
            "|  Spirit Riding Free| childrens-animation| childrens-animation|2017-05-05|8 seasons, 52 epi...|            8|            52|   23 min.|       23|       23|Pending|     1|Children| English| 2021-03-16|\n",
            "|         Llama Llama| childrens-animation| childrens-animation|2018-01-26|1 season, 15 epis...|            1|            15|   24 min.|       24|       24|Renewed|     1|Children| English| 2021-03-16|\n",
            "|She-Ra and the Pr...| childrens-animation| childrens-animation|2018-11-13|2 seasons, 20 epi...|            2|            20|   24 min.|       24|       24|Renewed|     1|Children| English| 2021-03-16|\n",
            "|Spy Kids: Mission...| childrens-animation| childrens-animation|2018-04-20|2 seasons, 20 epi...|            2|            20|23–25 min.|       23|       23|Pending|     1|Children| English| 2021-03-16|\n",
            "+--------------------+--------------------+--------------------+----------+--------------------+-------------+--------------+----------+---------+---------+-------+------+--------+--------+-----------+\n",
            "only showing top 20 rows\n",
            "\n"
          ]
        }
      ]
    },
    {
      "cell_type": "code",
      "source": [
        "# 3. Remover linhas duplicadas e trocar o resultado das linhas que tiverem a coluna \n",
        "# \"Seasons\" de \"TBA\" para \"a ser anunciado\".\n",
        "\n",
        "# 3.1 Remover duplicas\n",
        "print(f'Qtde linhas : {df.count()}')\n",
        "df_dist= df.dropDuplicates()\n",
        "print(f'Qtde linhas distintas : {df_dist.count()}')\n",
        "\n",
        "# 3.2 Trocando valor na coluna Seasons\n",
        "df_dist = df_dist.withColumn('Seasons',regexp_replace('Seasons','TBA','a ser anunciado'))\n",
        "temp = df_dist.select('*').filter('Seasons like \"%a ser anunciado%\"')\n",
        "print (f'Qtde linhas coluna Season alterado : {temp.count()}')"
      ],
      "metadata": {
        "id": "tDDQw4k7RUyU",
        "colab": {
          "base_uri": "https://localhost:8080/"
        },
        "outputId": "6f6a6d5a-e733-417c-b0fd-3701c90acbe7"
      },
      "execution_count": 91,
      "outputs": [
        {
          "output_type": "stream",
          "name": "stdout",
          "text": [
            "Qtde linhas : 358\n",
            "Qtde linhas distintas : 358\n",
            "Qtde linhas coluna Season alterado : 15\n"
          ]
        }
      ]
    },
    {
      "cell_type": "code",
      "source": [
        "# 4. Criar uma coluna nova chamada \"Data de Alteração\" e dentro dela um timestamp.\n",
        "\n",
        "df2 = df_dist\\\n",
        ".withColumn(\"Data de Alteração\",\\\n",
        "            when(df_dist.Seasons == \"a ser anunciado\",current_timestamp())\\\n",
        "            .otherwise(None))\n",
        "\n",
        "df2.select('*').filter('Seasons like \"%a ser anunciado%\"').show()"
      ],
      "metadata": {
        "colab": {
          "base_uri": "https://localhost:8080/"
        },
        "id": "z_FRkd4Mumnd",
        "outputId": "1d8c17dc-2513-401e-b939-0e9cbf8439ee"
      },
      "execution_count": 144,
      "outputs": [
        {
          "output_type": "stream",
          "name": "stdout",
          "text": [
            "+--------------------+--------------------+--------------------+----------+---------------+-------------+--------------+-------+---------+---------+-------+------+---------------+----------+-----------+--------------------+\n",
            "|               Title|               Genre|         GenreLabels|  Premiere|        Seasons|SeasonsParsed|EpisodesParsed| Length|MinLength|MaxLength| Status|Active|          Table|  Language|dt_inclusao|   Data de Alteração|\n",
            "+--------------------+--------------------+--------------------+----------+---------------+-------------+--------------+-------+---------+---------+-------+------+---------------+----------+-----------+--------------------+\n",
            "|     Family Business|              Comedy|              comedy|2019-06-28|a ser anunciado|            0|             0|29 min.|        0|        0|Pending|     1|ForeignLanguage|    French| 2021-03-16|2022-03-13 22:59:...|\n",
            "|  The Naked Director|               Drama|               drama|2019-08-08|a ser anunciado|            0|             0|    TBA|        0|        0|Pending|     1|ForeignLanguage|  Japanese| 2021-03-16|2022-03-13 22:59:...|\n",
            "|        Another Life|     Science-fiction|     science-fiction|2019-07-25|a ser anunciado|            0|             0|    TBA|        0|        0|Pending|     1|          Drama|   English| 2021-03-16|2022-03-13 22:59:...|\n",
            "|  Family Reunion[64]|              Comedy|              comedy|2019-07-10|a ser anunciado|            0|             0|    TBA|        0|        0|Pending|     1|         Comedy|   English| 2021-03-16|2022-03-13 22:59:...|\n",
            "|       Kengan Ashura|              Action|              action|2019-07-31|a ser anunciado|            0|             0|    TBA|        0|        0|Pending|     1|          Anime|   English| 2021-03-16|2022-03-13 22:59:...|\n",
            "|          Typewriter|              Horror|              horror|2019-07-19|a ser anunciado|            0|             0|    TBA|        0|        0|Pending|     1|ForeignLanguage|     Hindi| 2021-03-16|2022-03-13 22:59:...|\n",
            "|             7 Seeds|     Science fiction|     science-fiction|2019-06-28|a ser anunciado|            0|             0|    TBA|        0|        0|Pending|     1|          Anime|   English| 2021-03-16|2022-03-13 22:59:...|\n",
            "|           Exhibit A|          True crime|          true,crime|2019-06-28|a ser anunciado|            0|             0|    TBA|        0|        0|Pending|     1|     DocuSeries|   English| 2021-03-16|2022-03-13 22:59:...|\n",
            "|          Love Alarm|     Romantic comedy|     romantic,comedy|2019-08-22|a ser anunciado|            0|             0|    TBA|        0|        0|Pending|     1|ForeignLanguage|    Korean| 2021-03-16|2022-03-13 22:59:...|\n",
            "|          True Tunes|chrildrens musica...|chrildrens,musica...|2019-07-12|a ser anunciado|            0|             0|    TBA|        0|        0|Pending|     1|       Children|   English| 2021-03-16|2022-03-13 22:59:...|\n",
            "|            Sintonia|               Drama|               drama|2019-08-09|a ser anunciado|            0|             0|    TBA|        0|        0|Pending|     1|ForeignLanguage|Portuguese| 2021-03-16|2022-03-13 22:59:...|\n",
            "|Knights of the Zo...|              Action|              action|2019-07-19|a ser anunciado|            0|             0|    TBA|        0|        0|Pending|     1|          Anime|   English| 2021-03-16|2022-03-13 22:59:...|\n",
            "|      The Last Czars|         Docu-series|         docu-series|2019-07-03|a ser anunciado|            0|             0|    TBA|        0|        0|Pending|     1|     DocuSeries|   English| 2021-03-16|2022-03-13 22:59:...|\n",
            "|      The Politician|              Comedy|              comedy|2019-09-27|a ser anunciado|            0|             0|    TBA|        0|        0|Renewed|     1|         Comedy|   English| 2021-03-16|2022-03-13 22:59:...|\n",
            "|      The Chosen One|      Thriller drama|      thriller,drama|2019-06-28|a ser anunciado|            0|             0|    TBA|        0|        0|Pending|     1|ForeignLanguage|Portuguese| 2021-03-16|2022-03-13 22:59:...|\n",
            "+--------------------+--------------------+--------------------+----------+---------------+-------------+--------------+-------+---------+---------+-------+------+---------------+----------+-----------+--------------------+\n",
            "\n"
          ]
        }
      ]
    },
    {
      "cell_type": "code",
      "source": [
        "# 5. Trocar os nomes das colunas de inglês para português, exemplo: \"Title\" para \"Título\" (com acentuação).\n",
        "\n",
        "newColumns = [ 'Título',\n",
        "               'Gênero',\n",
        "               'Rótulos de Gênero',\n",
        "               'Pré Estreia',\n",
        "               'Temporadas',\n",
        "               'Temporadas Exibidas',\n",
        "               'Episódios Exibidos',\n",
        "               'Duração',\n",
        "               'Duração Mínima',\n",
        "               'Duração Máxima',\n",
        "               'Status',\n",
        "               'Ativo',\n",
        "               'Rótulo',\n",
        "               'Língua',\n",
        "               'Data Inclusão',\n",
        "               'Data de Alteração'\n",
        "              ]\n",
        "\n",
        "df2 = df2.toDF(*newColumns)\n",
        "df2.printSchema()"
      ],
      "metadata": {
        "colab": {
          "base_uri": "https://localhost:8080/"
        },
        "id": "i4C61MbC0zYx",
        "outputId": "ed0250b9-bfdb-4a4f-d54e-bdaa95186e77"
      },
      "execution_count": 145,
      "outputs": [
        {
          "output_type": "stream",
          "name": "stdout",
          "text": [
            "root\n",
            " |-- Título: string (nullable = true)\n",
            " |-- Gênero: string (nullable = true)\n",
            " |-- Rótulos de Gênero: string (nullable = true)\n",
            " |-- Pré Estreia: date (nullable = true)\n",
            " |-- Temporadas: string (nullable = true)\n",
            " |-- Temporadas Exibidas: long (nullable = true)\n",
            " |-- Episódios Exibidos: long (nullable = true)\n",
            " |-- Duração: string (nullable = true)\n",
            " |-- Duração Mínima: long (nullable = true)\n",
            " |-- Duração Máxima: long (nullable = true)\n",
            " |-- Status: string (nullable = true)\n",
            " |-- Ativo: long (nullable = true)\n",
            " |-- Rótulo: string (nullable = true)\n",
            " |-- Língua: string (nullable = true)\n",
            " |-- Data Inclusão: date (nullable = true)\n",
            " |-- Data de Alteração: timestamp (nullable = true)\n",
            "\n"
          ]
        }
      ]
    },
    {
      "cell_type": "code",
      "source": [
        "# 6. Testar e verificar se existe algum erro de processamento do spark e identificar onde pode ter ocorrido o erro.\n",
        "# >>> Erro ocorrido em transformar a coluna 'Premiere' em date no ex 1, devido ao mes por extenso (1-Feb-13).\n",
        "\n",
        "#funcao\n",
        "def date_converter(x):\n",
        "    if type(x) == str:\n",
        "        d = datetime.strptime(x,'%d-%b-%y')\n",
        "        str_date = d.strftime('%Y-%m-%d')\n",
        "        return str_date\n",
        "    else:\n",
        "        return None\n",
        "\n",
        "# User-Defined Functions (UDFs) são funções que executam cada linha \n",
        "mydate_converter = udf(date_converter)"
      ],
      "metadata": {
        "id": "RqBX3f9A3L2R"
      },
      "execution_count": 146,
      "outputs": []
    },
    {
      "cell_type": "code",
      "source": [
        "# 7. Criar apenas 1 . csv com as seguintes colunas que foram nomeadas anteriormente \n",
        "# \"Title,Genre, Seasons, Premiere, Language, Active, Status, dt_inclusao, Data de Alteração\" as\n",
        "# colunas devem estar em português com header e separadas por \";\".\n",
        "\n",
        "df_csv = df2.select('Título','Gênero','Temporadas','Pré Estreia','Língua','Ativo','Status','Data Inclusão','Data de Alteração')\n",
        "\n",
        "# Spark df to Pandas df\n",
        "df_csv2 = df_csv.toPandas()\n",
        "\n",
        "df_csv2.to_csv(\"df_csv2.csv\", sep = ';')\n"
      ],
      "metadata": {
        "id": "x71pu7xU6yu4"
      },
      "execution_count": 147,
      "outputs": []
    },
    {
      "cell_type": "code",
      "source": [
        "# 8. Inserir esse . csv dentro de um bucket do AWS s3\n",
        "# obs: estou com problema na verificação da minha conta AWS, por isso não foi possivel testar o insert abaixo no bucket \n",
        "# ou utilizar o databricks.\n",
        "\n",
        "\n",
        "spark.sparkContext.hadoopConfiguration.set(\"fs.s3a.secret.key\", \"aws secretkey value\")\n",
        "spark.sparkContext.hadoopConfiguration.set(\"fs.s3a.endpoint\", \"s3.amazonaws.com\")\n",
        "\n",
        "df_csv.write.option(\"header\",\"true\").csv(\"s3a://sparkbyexamples/csv/zipcodes\")"
      ],
      "metadata": {
        "id": "aE5aMsizYXII"
      },
      "execution_count": null,
      "outputs": []
    }
  ]
}
