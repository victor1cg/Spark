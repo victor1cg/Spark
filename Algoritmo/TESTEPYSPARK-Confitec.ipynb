{
  "nbformat": 4,
  "nbformat_minor": 0,
  "metadata": {
    "colab": {
      "name": "Algoritmo.ipynb",
      "provenance": [],
      "collapsed_sections": [],
      "authorship_tag": "ABX9TyPvcM+HIkvOYPuOw1BOkRPf",
      "include_colab_link": true
    },
    "kernelspec": {
      "name": "python3",
      "display_name": "Python 3"
    },
    "language_info": {
      "name": "python"
    }
  },
  "cells": [
    {
      "cell_type": "markdown",
      "metadata": {
        "id": "view-in-github",
        "colab_type": "text"
      },
      "source": [
        "<a href=\"https://colab.research.google.com/github/victor1cg/Spark/blob/main/Algoritmo.ipynb\" target=\"_parent\"><img src=\"https://colab.research.google.com/assets/colab-badge.svg\" alt=\"Open In Colab\"/></a>"
      ]
    },
    {
      "cell_type": "markdown",
      "source": [
        "**# Avaliação Confitec #**\n",
        "\n",
        "##### Nome : Victor Goncalves\n",
        "##### Data : 13/03/2022\n",
        "#### -------- Algoritmo --------\n"
      ],
      "metadata": {
        "id": "IvcK1i7Jj3yq"
      }
    },
    {
      "cell_type": "code",
      "execution_count": 1,
      "metadata": {
        "id": "oZ293a0KWj21"
      },
      "outputs": [],
      "source": [
        "import pandas as pd\n",
        "import numpy as np\n",
        "from numpy import random"
      ]
    },
    {
      "cell_type": "code",
      "source": [
        "# definindo a funcao e setando random.seed\n",
        "%time\n",
        "def mult_matrix (x):\n",
        "  np.random.seed(123)\n",
        "  A = np.random.randint(100, size=(x, x))\n",
        "  \n",
        "  np.random.seed(10)\n",
        "  B = np.random.randint(100, size=(x, x)) \n",
        "\n",
        "  Y = np.dot(A,B)\n",
        "  return (print(f'\\nMatrix A:\\n {A}\\n\\nMatrix B:\\n {B} \\n\\nO produto de A e B:\\n {Y}'))\n",
        "\n",
        "mult_matrix(3)"
      ],
      "metadata": {
        "colab": {
          "base_uri": "https://localhost:8080/"
        },
        "id": "SB7oIlUfYFrP",
        "outputId": "63b706bf-79d9-48ee-8399-ad255ef7798c"
      },
      "execution_count": 3,
      "outputs": [
        {
          "output_type": "stream",
          "name": "stdout",
          "text": [
            "CPU times: user 3 µs, sys: 0 ns, total: 3 µs\n",
            "Wall time: 6.68 µs\n",
            "\n",
            "Matrix A:\n",
            " [[66 92 98]\n",
            " [17 83 57]\n",
            " [86 97 96]]\n",
            "\n",
            "Matrix B:\n",
            " [[ 9 15 64]\n",
            " [28 89 93]\n",
            " [29  8 73]] \n",
            "\n",
            "O produto de A e B:\n",
            " [[ 6012  9962 19934]\n",
            " [ 4130  8098 12968]\n",
            " [ 6274 10691 21533]]\n"
          ]
        }
      ]
    },
    {
      "cell_type": "code",
      "source": [
        ""
      ],
      "metadata": {
        "id": "c0_bbe2dbX6Y"
      },
      "execution_count": null,
      "outputs": []
    }
  ]
}
